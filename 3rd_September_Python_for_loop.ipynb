{
 "cells": [
  {
   "cell_type": "markdown",
   "id": "a1fa069e-f169-4d58-8406-fb13bfc7b811",
   "metadata": {},
   "source": [
    "Basic Level:"
   ]
  },
  {
   "cell_type": "markdown",
   "id": "0d3464be-f171-4904-b5a7-088659dedd05",
   "metadata": {},
   "source": [
    "#1. Write a Python program to print the numbers from 1 to 10 using a `for` loop."
   ]
  },
  {
   "cell_type": "code",
   "execution_count": 2,
   "id": "2f00a240-6937-49aa-bc4c-fa90422b051e",
   "metadata": {},
   "outputs": [
    {
     "name": "stdout",
     "output_type": "stream",
     "text": [
      "1\n",
      "2\n",
      "3\n",
      "4\n",
      "5\n",
      "6\n",
      "7\n",
      "8\n",
      "9\n",
      "10\n"
     ]
    }
   ],
   "source": [
    "x=10\n",
    "\n",
    "# iterate through the range of 1 to 10\n",
    "for i in range(1,11):\n",
    "    print(i)"
   ]
  },
  {
   "cell_type": "markdown",
   "id": "3fc24bf3-a521-4681-bf6e-60748d701e67",
   "metadata": {},
   "source": [
    "#2. Create a program that calculates the sum of all numbers in a list using a `for` loop."
   ]
  },
  {
   "cell_type": "code",
   "execution_count": 8,
   "id": "f460adc5-1f08-447a-a3e5-ab24fbe2756a",
   "metadata": {},
   "outputs": [
    {
     "name": "stdout",
     "output_type": "stream",
     "text": [
      "our list is : [1, 45, 5, 3, 7, 89, 6]\n",
      "sum of all these numbers in : 156\n"
     ]
    }
   ],
   "source": [
    "# initialize the list \n",
    "list=[1,45,5,3,7,89,6]\n",
    "\n",
    "# iterate through each element in list and add in sum\n",
    "sum=0\n",
    "for i in list:\n",
    "    sum=sum+i\n",
    "\n",
    "print(\"our list is :\",list)\n",
    "print(\"sum of all these numbers in :\",sum)"
   ]
  },
  {
   "cell_type": "markdown",
   "id": "79bb5d6c-1869-4df6-b1fe-55cd5f5b87a6",
   "metadata": {},
   "source": [
    "#3. Write a program to print the characters of a string in reverse order using a `for` loop."
   ]
  },
  {
   "cell_type": "code",
   "execution_count": 23,
   "id": "e50785da-489d-4b6c-a3a3-6f44474e116c",
   "metadata": {},
   "outputs": [
    {
     "name": "stdin",
     "output_type": "stream",
     "text": [
      "enter the string input from the user sakshi\n"
     ]
    },
    {
     "name": "stdout",
     "output_type": "stream",
     "text": [
      "Reversed string:\n",
      "i\n",
      "h\n",
      "s\n",
      "k\n",
      "a\n",
      "s\n"
     ]
    }
   ],
   "source": [
    "# get the string input from the user\n",
    "name=input(\"enter the string input from the user\")\n",
    "\n",
    "# Print characters in reverse order using a for loop\n",
    "print(\"Reversed string:\")\n",
    "for char in reversed(name):\n",
    "    print(char)\n",
    "\n"
   ]
  },
  {
   "cell_type": "markdown",
   "id": "30418d1e-0bcd-4723-a7ef-13bf3e39dac5",
   "metadata": {},
   "source": [
    "#4. Develop a program that finds the factorial of a given number using a `for` loop."
   ]
  },
  {
   "cell_type": "code",
   "execution_count": 26,
   "id": "51cc6176-f37c-4c1e-b05c-66887dbcbdd6",
   "metadata": {},
   "outputs": [
    {
     "name": "stdin",
     "output_type": "stream",
     "text": [
      "enter the number to find the factorial : 5\n"
     ]
    },
    {
     "name": "stdout",
     "output_type": "stream",
     "text": [
      "120\n"
     ]
    }
   ],
   "source": [
    "# take the number input from the user\n",
    "num=int(input(\"enter the number to find the factorial :\"))\n",
    "\n",
    "# initialize the fact with 1\n",
    "fact=1\n",
    "\n",
    "for i in range(1,num+1):\n",
    "    fact=fact*i\n",
    "    \n",
    "print(fact)"
   ]
  },
  {
   "cell_type": "markdown",
   "id": "2d8eed02-5f3c-46f4-9d44-0bd2a164b1a9",
   "metadata": {},
   "source": [
    "#5. Create a program to print the multiplication table of a given number using a `for` loop."
   ]
  },
  {
   "cell_type": "code",
   "execution_count": 27,
   "id": "36882a4d-8f47-47df-856f-adbda9c51c68",
   "metadata": {},
   "outputs": [
    {
     "name": "stdin",
     "output_type": "stream",
     "text": [
      "enter the table you want ot get : 12\n"
     ]
    },
    {
     "name": "stdout",
     "output_type": "stream",
     "text": [
      "12 * 1 = 12\n",
      "12 * 2 = 24\n",
      "12 * 3 = 36\n",
      "12 * 4 = 48\n",
      "12 * 5 = 60\n",
      "12 * 6 = 72\n",
      "12 * 7 = 84\n",
      "12 * 8 = 96\n",
      "12 * 9 = 108\n",
      "12 * 10 = 120\n"
     ]
    }
   ],
   "source": [
    "# get table input from the user\n",
    "table=int(input(\"enter the table you want ot get :\"))\n",
    "\n",
    "for i in range(1,11):\n",
    "    print(table ,\"*\",i,\"=\",table*i)"
   ]
  },
  {
   "cell_type": "markdown",
   "id": "1a21a74c-de49-4178-9185-59d0cd268cf8",
   "metadata": {},
   "source": [
    "#6. Write a program that counts the number of even and odd numbers in a list using a `for` loop."
   ]
  },
  {
   "cell_type": "code",
   "execution_count": 17,
   "id": "add2972d-a901-40fa-b40e-bd1b82e08e64",
   "metadata": {},
   "outputs": [
    {
     "name": "stdout",
     "output_type": "stream",
     "text": [
      "count of even numbers in this list is : 3\n",
      "count of odd numbers in this list is : 6\n"
     ]
    }
   ],
   "source": [
    "# initialize the list\n",
    "list=[41,52,63,7,85,96,21,49,34]\n",
    "even_count=0\n",
    "odd_count=0\n",
    "\n",
    "for i in list:\n",
    "    if i%2==0:\n",
    "        even_count=even_count+1\n",
    "        \n",
    "    else:\n",
    "        if i%2!=0:\n",
    "            odd_count=odd_count+1\n",
    "        \n",
    "\n",
    "print(\"count of even numbers in this list is :\",even_count)\n",
    "print(\"count of odd numbers in this list is :\",odd_count)\n",
    "\n",
    "\n",
    "    "
   ]
  },
  {
   "cell_type": "markdown",
   "id": "150f1c9f-a91d-4735-b238-818f00327834",
   "metadata": {},
   "source": [
    "#7. Develop a program that prints the squares of numbers from 1 to 5 using a `for` loop."
   ]
  },
  {
   "cell_type": "code",
   "execution_count": 21,
   "id": "d59208d8-cd10-48d9-98cf-130d4addeb97",
   "metadata": {},
   "outputs": [
    {
     "name": "stdout",
     "output_type": "stream",
     "text": [
      "square of 1 is 1\n",
      "square of 2 is 4\n",
      "square of 3 is 9\n",
      "square of 4 is 16\n",
      "square of 5 is 25\n"
     ]
    }
   ],
   "source": [
    "for i in range(1,6):\n",
    "    print(\"square of\",i,\"is\",i*i)"
   ]
  },
  {
   "cell_type": "markdown",
   "id": "13704320-25b1-4b96-93ab-2b677a91fe42",
   "metadata": {},
   "source": [
    "#8. Create a program to find the length of a string without using the `len()` function."
   ]
  },
  {
   "cell_type": "code",
   "execution_count": 22,
   "id": "a841095b-68a2-4da0-9cf8-2cfb5a17fa37",
   "metadata": {},
   "outputs": [
    {
     "name": "stdin",
     "output_type": "stream",
     "text": [
      "enter the string : my name is sakshi\n"
     ]
    },
    {
     "name": "stdout",
     "output_type": "stream",
     "text": [
      "length of the string is : 17\n"
     ]
    }
   ],
   "source": [
    "# get the string input from the user\n",
    "string = input(\"enter the string :\")\n",
    "\n",
    "length=0\n",
    "# iterate each character and add into the length\n",
    "for char in string:\n",
    "    length=length+1\n",
    "\n",
    "# display the result\n",
    "print(\"length of the string is :\",length)\n",
    "    "
   ]
  },
  {
   "cell_type": "markdown",
   "id": "a66d51d2-76ea-4f05-9320-3a59bd866dca",
   "metadata": {},
   "source": [
    "#9. Write a program that calculates the average of a list of numbers using a `for` loop."
   ]
  },
  {
   "cell_type": "code",
   "execution_count": 24,
   "id": "9de351df-6f8a-4e1d-8e05-49522ed8b48e",
   "metadata": {},
   "outputs": [
    {
     "name": "stdout",
     "output_type": "stream",
     "text": [
      "470\n",
      "8\n",
      "average of numbers of list is : 58.75\n"
     ]
    }
   ],
   "source": [
    "# initilaize the list\n",
    "list=[41,52,63,74,85,96,25,34]\n",
    "sum=0\n",
    "num=0\n",
    "\n",
    "for i in list:\n",
    "    sum=sum+i\n",
    "    num=num+1\n",
    "\n",
    "print(sum)\n",
    "print(num)\n",
    "print(\"average of numbers of list is :\",sum/num)"
   ]
  },
  {
   "cell_type": "markdown",
   "id": "0d8de952-e94c-4cfe-aa93-51d0e2ff369b",
   "metadata": {},
   "source": [
    "#10. Develop a program that prints the first `n` Fibonacci numbers using a `for` loop."
   ]
  },
  {
   "cell_type": "code",
   "execution_count": 10,
   "id": "6207c777-5d76-4f68-b94a-f35db3d79a01",
   "metadata": {},
   "outputs": [
    {
     "name": "stdin",
     "output_type": "stream",
     "text": [
      "Enter the number of Fibonacci numbers to print:  5\n"
     ]
    },
    {
     "name": "stdout",
     "output_type": "stream",
     "text": [
      "Fibonacci sequence of the first 5 numbers:\n",
      "0\n",
      "1\n",
      "1\n",
      "2\n",
      "3\n"
     ]
    }
   ],
   "source": [
    "# Input the number of Fibonacci numbers to print\n",
    "n = int(input(\"Enter the number of Fibonacci numbers to print: \"))\n",
    "\n",
    "# Initialize the first two numbers in the Fibonacci sequence\n",
    "fibonacci_sequence = [0, 1]\n",
    "\n",
    "# Generate the Fibonacci sequence using a for loop\n",
    "for i in range(2, n):\n",
    "    next_fibonacci = fibonacci_sequence[i-1] + fibonacci_sequence[i-2]\n",
    "    fibonacci_sequence.append(next_fibonacci)\n",
    "\n",
    "# Print the Fibonacci sequence\n",
    "print(\"Fibonacci sequence of the first\", n, \"numbers:\")\n",
    "for num in fibonacci_sequence:\n",
    "    print(num)\n"
   ]
  },
  {
   "cell_type": "markdown",
   "id": "87e08086-187b-42e6-8020-187f27c43a90",
   "metadata": {},
   "source": [
    "Intermediate Level:"
   ]
  },
  {
   "cell_type": "markdown",
   "id": "0d2579fa-896b-4e62-b671-9831c2af3086",
   "metadata": {},
   "source": [
    "#11. Write a program to check if a given list contains any duplicates using a `for` loop."
   ]
  },
  {
   "cell_type": "code",
   "execution_count": 13,
   "id": "c4fd93f0-1ffa-4b41-b428-7f60cb935edb",
   "metadata": {},
   "outputs": [
    {
     "name": "stdin",
     "output_type": "stream",
     "text": [
      "Enter a list of elements separated by spaces:  41 52 63 74 85 96 41 52\n"
     ]
    },
    {
     "name": "stdout",
     "output_type": "stream",
     "text": [
      "41\n",
      "52\n",
      "YESS !The list contains duplicates.\n"
     ]
    }
   ],
   "source": [
    "# Input list of elements\n",
    "elements = input(\"Enter a list of elements separated by spaces: \").split()\n",
    "\n",
    "# Initialize a set to keep track of unique elements\n",
    "unique_elements = set()\n",
    "\n",
    "# Initialize a variable to track if duplicates are found\n",
    "has_duplicates = False\n",
    "\n",
    "# Iterate through the list using a for loop\n",
    "for element in elements:\n",
    "    if element in unique_elements:\n",
    "        has_duplicates = True\n",
    "        print(element)\n",
    "        # break\n",
    "    else:\n",
    "        unique_elements.add(element)\n",
    "\n",
    "# Print the result\n",
    "if has_duplicates:\n",
    "    print(\"YESS !The list contains duplicates.\")\n",
    "else:\n",
    "    print(\"NO! The list does not contain duplicates.\")\n"
   ]
  },
  {
   "cell_type": "markdown",
   "id": "818c5454-f6b1-4916-847c-0c1e76404e24",
   "metadata": {},
   "source": [
    "#12. Create a program that prints the prime numbers in a given range using a `for` loop."
   ]
  },
  {
   "cell_type": "code",
   "execution_count": 3,
   "id": "82a8fd08-5ac6-418e-8c53-cf21ee42ce56",
   "metadata": {},
   "outputs": [
    {
     "name": "stdin",
     "output_type": "stream",
     "text": [
      "Enter the length 'n' to print prime numbers:  5\n"
     ]
    },
    {
     "name": "stdout",
     "output_type": "stream",
     "text": [
      "Prime numbers up to length 5 :\n",
      "2 3 5 7 11 "
     ]
    }
   ],
   "source": [
    "# Input the length 'n'\n",
    "n = int(input(\"Enter the length 'n' to print prime numbers: \"))\n",
    "\n",
    "# Print prime numbers up to the length 'n' using a for loop\n",
    "print(\"Prime numbers up to length\", n, \":\")\n",
    "\n",
    "count_primes = 0\n",
    "num = 2\n",
    "\n",
    "while count_primes < n:\n",
    "    for i in range(2, int(num**0.5) + 1):\n",
    "        if num % i == 0:\n",
    "            break\n",
    "    else:\n",
    "        print(num, end=\" \")\n",
    "        count_primes += 1\n",
    "\n",
    "    num += 1\n"
   ]
  },
  {
   "cell_type": "markdown",
   "id": "8d6dcaf1-af8f-4120-a267-290396c16777",
   "metadata": {},
   "source": [
    "#13. Develop a program that counts the number of vowels in a string using a `for` loop."
   ]
  },
  {
   "cell_type": "code",
   "execution_count": 14,
   "id": "88057ad2-672e-41f6-85bf-c47748efc600",
   "metadata": {},
   "outputs": [
    {
     "name": "stdin",
     "output_type": "stream",
     "text": [
      "enter the string : sakshi\n"
     ]
    },
    {
     "name": "stdout",
     "output_type": "stream",
     "text": [
      "a\n",
      "i\n",
      "number of vowels in this string are : 2\n"
     ]
    }
   ],
   "source": [
    "# take string input from the user\n",
    "string=input(\"enter the string :\")\n",
    "\n",
    "# convert the string into lowercase to make the count case sensitive\n",
    "lower_string=string.lower()\n",
    "\n",
    "\n",
    "# initialize count with 0 and keep adding the vowels in it using for loop\n",
    "count=0\n",
    "for i in string:\n",
    "    if i in 'aeiou':\n",
    "        print(i)\n",
    "        count=count+1\n",
    "        \n",
    "print(\"number of vowels in this string are :\",count)"
   ]
  },
  {
   "cell_type": "markdown",
   "id": "c349c29f-3138-4ea8-bb3d-82fe670d369c",
   "metadata": {},
   "source": [
    "#14. Write a program to find the maximum element in a 2D list using a nested `for` loop."
   ]
  },
  {
   "cell_type": "code",
   "execution_count": 39,
   "id": "24dfbe20-7a71-44e3-a34c-b88ec271f05d",
   "metadata": {},
   "outputs": [
    {
     "name": "stdin",
     "output_type": "stream",
     "text": [
      "Enter the number of rows:  2\n",
      "Enter the number of columns:  4\n",
      "Enter elements for row 1 separated by spaces:  14 25 36 47\n",
      "Enter elements for row 2 separated by spaces:  41 52 63 96\n"
     ]
    },
    {
     "name": "stdout",
     "output_type": "stream",
     "text": [
      "Maximum element in the 2D list: 96\n"
     ]
    }
   ],
   "source": [
    "# Input a 2D list\n",
    "rows = int(input(\"Enter the number of rows: \"))\n",
    "cols = int(input(\"Enter the number of columns: \"))\n",
    "\n",
    "# Initialize a 2D list\n",
    "matrix = []\n",
    "for i in range(rows):\n",
    "    row = [int(x) for x in input(f\"Enter elements for row {i + 1} separated by spaces: \").split()]\n",
    "    matrix.append(row)\n",
    "\n",
    "# Initialize the maximum element with the first element of the matrix\n",
    "max_element = matrix[0][0]\n",
    "\n",
    "# Iterate through the matrix using nested for loops\n",
    "for row in matrix:\n",
    "    for element in row:\n",
    "        if element > max_element:\n",
    "            max_element = element\n",
    "\n",
    "# Print the result\n",
    "print(\"Maximum element in the 2D list:\", max_element)\n"
   ]
  },
  {
   "cell_type": "markdown",
   "id": "86bbc198-bda7-480f-92dc-989a082c4285",
   "metadata": {},
   "source": [
    "#15. Create a program that removes all occurrences of a specific element from a list using a `for` loop."
   ]
  },
  {
   "cell_type": "code",
   "execution_count": 41,
   "id": "d2d707ee-0554-4388-9029-80650286f3e8",
   "metadata": {},
   "outputs": [
    {
     "name": "stdin",
     "output_type": "stream",
     "text": [
      "Enter a list of elements separated by spaces:  41 52 63 74 85 96\n",
      "Enter the element to remove:  41\n"
     ]
    },
    {
     "name": "stdout",
     "output_type": "stream",
     "text": [
      "List after removing all occurrences of 41: ['52', '63', '74', '85', '96']\n"
     ]
    }
   ],
   "source": [
    "# Input list of elements\n",
    "elements = input(\"Enter a list of elements separated by spaces: \").split()\n",
    "\n",
    "# Input the element to remove\n",
    "element_to_remove = input(\"Enter the element to remove: \")\n",
    "\n",
    "# Remove all occurrences of the specified element using a for loop\n",
    "modified_list = []\n",
    "for element in elements:\n",
    "    if element != element_to_remove:\n",
    "        modified_list.append(element)\n",
    "\n",
    "# Print the modified list\n",
    "print(\"List after removing all occurrences of\", element_to_remove + \":\", modified_list)\n"
   ]
  },
  {
   "cell_type": "markdown",
   "id": "9e2ad10f-22da-4435-8554-27f309ae51bf",
   "metadata": {},
   "source": [
    "#16. Develop a program that generates a multiplication table for numbers from 1 to 5 using a nested `for` loop."
   ]
  },
  {
   "cell_type": "code",
   "execution_count": 55,
   "id": "6297bdf4-bb39-4564-b59f-c7ee762ce9c5",
   "metadata": {},
   "outputs": [
    {
     "name": "stdout",
     "output_type": "stream",
     "text": [
      "\n",
      "multiplication of  1\n",
      "1 * 1 = 1\n",
      "1 * 2 = 2\n",
      "1 * 3 = 3\n",
      "1 * 4 = 4\n",
      "1 * 5 = 5\n",
      "1 * 6 = 6\n",
      "1 * 7 = 7\n",
      "1 * 8 = 8\n",
      "1 * 9 = 9\n",
      "1 * 10 = 10\n",
      "\n",
      "multiplication of  2\n",
      "2 * 1 = 2\n",
      "2 * 2 = 4\n",
      "2 * 3 = 6\n",
      "2 * 4 = 8\n",
      "2 * 5 = 10\n",
      "2 * 6 = 12\n",
      "2 * 7 = 14\n",
      "2 * 8 = 16\n",
      "2 * 9 = 18\n",
      "2 * 10 = 20\n",
      "\n",
      "multiplication of  3\n",
      "3 * 1 = 3\n",
      "3 * 2 = 6\n",
      "3 * 3 = 9\n",
      "3 * 4 = 12\n",
      "3 * 5 = 15\n",
      "3 * 6 = 18\n",
      "3 * 7 = 21\n",
      "3 * 8 = 24\n",
      "3 * 9 = 27\n",
      "3 * 10 = 30\n",
      "\n",
      "multiplication of  4\n",
      "4 * 1 = 4\n",
      "4 * 2 = 8\n",
      "4 * 3 = 12\n",
      "4 * 4 = 16\n",
      "4 * 5 = 20\n",
      "4 * 6 = 24\n",
      "4 * 7 = 28\n",
      "4 * 8 = 32\n",
      "4 * 9 = 36\n",
      "4 * 10 = 40\n",
      "\n",
      "multiplication of  5\n",
      "5 * 1 = 5\n",
      "5 * 2 = 10\n",
      "5 * 3 = 15\n",
      "5 * 4 = 20\n",
      "5 * 5 = 25\n",
      "5 * 6 = 30\n",
      "5 * 7 = 35\n",
      "5 * 8 = 40\n",
      "5 * 9 = 45\n",
      "5 * 10 = 50\n"
     ]
    }
   ],
   "source": [
    "for num in range(1,6):\n",
    "    print(\"\\nmultiplication of \",num)\n",
    "    \n",
    "    for table in range(1,11):\n",
    "        print(num,\"*\",table,\"=\",num*table)\n",
    "        "
   ]
  },
  {
   "cell_type": "markdown",
   "id": "aeb449a3-754f-41dd-bac0-931d61645602",
   "metadata": {},
   "source": [
    "#17. Write a program that converts a list of Fahrenheit temperatures to Celsius using a `for` loop."
   ]
  },
  {
   "cell_type": "code",
   "execution_count": 1,
   "id": "fbd27ad7-de35-4f90-8add-0b3072e1537d",
   "metadata": {},
   "outputs": [
    {
     "name": "stdin",
     "output_type": "stream",
     "text": [
      "Enter Fahrenheit temperatures separated by spaces:  41.5 52.4 63.7\n"
     ]
    },
    {
     "name": "stdout",
     "output_type": "stream",
     "text": [
      "Fahrenheit Temperatures: [41.5, 52.4, 63.7]\n",
      "Celsius Temperatures: [5.277777777777778, 11.333333333333334, 17.61111111111111]\n"
     ]
    }
   ],
   "source": [
    "# Input list of Fahrenheit temperatures\n",
    "fahrenheit_temperatures = [float(x) for x in input(\"Enter Fahrenheit temperatures separated by spaces: \").split()]\n",
    "\n",
    "# Convert Fahrenheit temperatures to Celsius using a for loop\n",
    "celsius_temperatures = []\n",
    "for fahrenheit in fahrenheit_temperatures:\n",
    "    celsius = (fahrenheit - 32) * 5.0/9.0\n",
    "    celsius_temperatures.append(celsius)\n",
    "\n",
    "# Print the results\n",
    "print(\"Fahrenheit Temperatures:\", fahrenheit_temperatures)\n",
    "print(\"Celsius Temperatures:\", celsius_temperatures)\n",
    "\n",
    "\n"
   ]
  },
  {
   "cell_type": "markdown",
   "id": "ad18a687-8dc1-434d-be46-f2c9188a4f68",
   "metadata": {},
   "source": [
    "#18. Create a program to print the common elements from two lists using a `for` loop."
   ]
  },
  {
   "cell_type": "code",
   "execution_count": 3,
   "id": "6a847451-cb4c-4ebe-93b4-0547793ddc13",
   "metadata": {},
   "outputs": [
    {
     "name": "stdout",
     "output_type": "stream",
     "text": [
      "list 1 : [41, 25, 63, 95, 75, 36]\n",
      "list 2 : [41, 52, 63, 74, 85, 96]\n",
      "common elements in these lists are : [41, 63]\n"
     ]
    }
   ],
   "source": [
    "# initialize two lists\n",
    "list1=[41,25,63,95,75,36]\n",
    "list2=[41,52,63,74,85,96]\n",
    "\n",
    "# finding common elements using for loop\n",
    "common_elements=[]\n",
    "for element in list1:\n",
    "    if element in list2:\n",
    "        common_elements.append(element)\n",
    "\n",
    "# display the result        \n",
    "print(\"list 1 :\",list1)\n",
    "print(\"list 2 :\",list2)\n",
    "print(\"common elements in these lists are :\",common_elements)"
   ]
  },
  {
   "cell_type": "markdown",
   "id": "5bb6fa39-590f-423a-946a-112482499152",
   "metadata": {},
   "source": [
    "#19. Develop a program that prints the pattern of right-angled triangles using a `for` loop. Use ‘*’ to draw the pattern"
   ]
  },
  {
   "cell_type": "code",
   "execution_count": 4,
   "id": "d40b0f63-0314-4ec6-ace2-a09e353dbd1d",
   "metadata": {},
   "outputs": [
    {
     "name": "stdin",
     "output_type": "stream",
     "text": [
      "Enter the number of rows for the pattern:  5\n"
     ]
    },
    {
     "name": "stdout",
     "output_type": "stream",
     "text": [
      "* \n",
      "* * \n",
      "* * * \n",
      "* * * * \n",
      "* * * * * \n"
     ]
    }
   ],
   "source": [
    "# Input the number of rows for the pattern\n",
    "num_rows = int(input(\"Enter the number of rows for the pattern: \"))\n",
    "\n",
    "# Print the right-angled triangles pattern using a for loop\n",
    "for i in range(1, num_rows + 1):\n",
    "    for j in range(1, i + 1):\n",
    "        print(\"*\", end=\" \")\n",
    "    print()\n"
   ]
  },
  {
   "cell_type": "markdown",
   "id": "6cbb1f80-3b5e-417a-9046-f080874ca57c",
   "metadata": {},
   "source": [
    "#20. Write a program to find the greatest common divisor (GCD) of two numbers using a `for` loop."
   ]
  },
  {
   "cell_type": "code",
   "execution_count": 7,
   "id": "d75f66df-74e0-4ff1-a383-f29b269dd38f",
   "metadata": {},
   "outputs": [
    {
     "name": "stdin",
     "output_type": "stream",
     "text": [
      "enter the first number : 45\n",
      "enter the second number : 65\n"
     ]
    },
    {
     "name": "stdout",
     "output_type": "stream",
     "text": [
      "The GCD of 45 and 65 is: 5\n"
     ]
    }
   ],
   "source": [
    "num1=int(input(\"enter the first number :\"))\n",
    "num2=int(input(\"enter the second number :\"))\n",
    "\n",
    "# Find the GCD of the two numbers using a for loop\n",
    "smaller = min(num1, num2)\n",
    "\n",
    "for i in range(smaller, 0, -1):\n",
    "    if num1 % i == 0 and num2 % i == 0:\n",
    "        gcd_result = i\n",
    "        break\n",
    "\n",
    "# Print the result\n",
    "print(f\"The GCD of {num1} and {num2} is: {gcd_result}\")\n"
   ]
  },
  {
   "cell_type": "markdown",
   "id": "cdf77ad8-7c2f-4dcb-941a-38a42046370f",
   "metadata": {},
   "source": [
    "Advanced Level:"
   ]
  },
  {
   "cell_type": "markdown",
   "id": "338661ee-e8dd-4733-9201-1279d27555b7",
   "metadata": {},
   "source": [
    "#21. Create a program that calculates the sum of the digits of numbers in a list using a list comprehension."
   ]
  },
  {
   "cell_type": "code",
   "execution_count": 2,
   "id": "195a23c4-637d-4a02-996e-782ac84d6e2c",
   "metadata": {},
   "outputs": [
    {
     "name": "stdout",
     "output_type": "stream",
     "text": [
      "Original numbers: [123, 45, 6789, 987]\n",
      "Sum of digits for each number: [6, 9, 30, 24]\n"
     ]
    }
   ],
   "source": [
    "# Assume the list is already defined\n",
    "numbers = [123, 45, 6789, 987]\n",
    "\n",
    "# Calculate the sum of digits using list comprehension\n",
    "sum_of_digits = [sum(int(digit) for digit in str(num)) for num in numbers]\n",
    "\n",
    "# Print the result\n",
    "print(\"Original numbers:\", numbers)\n",
    "print(\"Sum of digits for each number:\", sum_of_digits)\n"
   ]
  },
  {
   "cell_type": "markdown",
   "id": "402906c4-ffbb-46c0-83eb-ac761261c800",
   "metadata": {},
   "source": [
    "#22. Write a program to find the prime factors of a given number using a `for` loop and list comprehension."
   ]
  },
  {
   "cell_type": "code",
   "execution_count": 4,
   "id": "aa94907f-2f14-458a-a1b6-0ade3bec57a9",
   "metadata": {},
   "outputs": [
    {
     "name": "stdin",
     "output_type": "stream",
     "text": [
      "Enter a number to find its prime factors:  45\n"
     ]
    },
    {
     "name": "stdout",
     "output_type": "stream",
     "text": [
      "Prime factors of 45: [3, 5]\n"
     ]
    }
   ],
   "source": [
    "# Input the number\n",
    "num = int(input(\"Enter a number to find its prime factors: \"))\n",
    "\n",
    "# Find prime factors using list comprehension and for loop\n",
    "prime_factors = [factor for factor in range(2, num + 1) if num % factor == 0 and all(factor % i != 0 for i in range(2, int(factor**0.5) + 1))]\n",
    "\n",
    "# Print the result\n",
    "print(f\"Prime factors of {num}: {prime_factors}\")\n"
   ]
  },
  {
   "cell_type": "markdown",
   "id": "232666a3-f942-4658-b4f7-67c45db34efd",
   "metadata": {},
   "source": [
    "#23. Develop a program that extracts unique elements from a list and stores them in a new list using a list comprehension."
   ]
  },
  {
   "cell_type": "code",
   "execution_count": 5,
   "id": "fd0745cf-543d-41cb-8856-8e1645ee78be",
   "metadata": {},
   "outputs": [
    {
     "name": "stdout",
     "output_type": "stream",
     "text": [
      "unique elements are : [96, 41, 74, 52, 85, 63]\n"
     ]
    }
   ],
   "source": [
    "# example list\n",
    "list1=[41,52,63,74,85,96,41,52]\n",
    "\n",
    "# extracting unique elements by using list comprehension\n",
    "unique_list=list({element for element in list1})\n",
    "\n",
    "\n",
    "# display the result\n",
    "print(\"oroginal list :\",list1)\n",
    "print(\"unique elements are :\",unique_list)"
   ]
  },
  {
   "cell_type": "markdown",
   "id": "e8a2fd7b-8a78-47f0-85f4-814e5e7bf125",
   "metadata": {},
   "source": [
    "#24. Create a program that generates a list of all palindromic numbers up to a specified limit using a list comprehension."
   ]
  },
  {
   "cell_type": "code",
   "execution_count": 12,
   "id": "618b820a-1ed8-4555-90a5-7457da842d9c",
   "metadata": {},
   "outputs": [
    {
     "name": "stdin",
     "output_type": "stream",
     "text": [
      "take the limit number input from the user : 455\n"
     ]
    },
    {
     "name": "stdout",
     "output_type": "stream",
     "text": [
      "[0, 1, 2, 3, 4, 5, 6, 7, 8, 9, 11, 22, 33, 44, 55, 66, 77, 88, 99, 101, 111, 121, 131, 141, 151, 161, 171, 181, 191, 202, 212, 222, 232, 242, 252, 262, 272, 282, 292, 303, 313, 323, 333, 343, 353, 363, 373, 383, 393, 404, 414, 424, 434, 444, 454]\n"
     ]
    }
   ],
   "source": [
    "# take number limit input from the user\n",
    "number=int(input(\"take the limit number input from the user :\"))\n",
    "\n",
    "palindrome=[i for i in range(number+1) if str(i) == str(i)[::-1]]\n",
    "\n",
    "print(palindrome)"
   ]
  },
  {
   "cell_type": "markdown",
   "id": "44fc6dee-c984-42da-b225-bf33e9ad3cdc",
   "metadata": {},
   "source": [
    "#25. Write a program to flatten a nested list using list comprehension."
   ]
  },
  {
   "cell_type": "code",
   "execution_count": 13,
   "id": "03f4187b-1ba0-4b07-ae43-99f62c415158",
   "metadata": {},
   "outputs": [
    {
     "name": "stdout",
     "output_type": "stream",
     "text": [
      "Nested List: [[1, 2, 3], [4, 5], [6, 7, 8]]\n",
      "Flattened List: [1, 2, 3, 4, 5, 6, 7, 8]\n"
     ]
    }
   ],
   "source": [
    "# example nested list\n",
    "nested_list = [[1, 2, 3], [4, 5], [6, 7, 8]]\n",
    "\n",
    "# flatte the nested list using list comprehension\n",
    "flattened_list = [element for sublist in nested_list for element in sublist]\n",
    "\n",
    "# display the result\n",
    "print(\"Nested List:\", nested_list)\n",
    "print(\"Flattened List:\", flattened_list)\n"
   ]
  },
  {
   "cell_type": "markdown",
   "id": "c8020ff1-461e-465e-9f5c-95c5b3755ebd",
   "metadata": {},
   "source": [
    "#26. Develop a program that computes the sum of even and odd numbers in a list separately using list comprehension."
   ]
  },
  {
   "cell_type": "code",
   "execution_count": 22,
   "id": "e9a79087-2206-4ad8-8e73-6742d339cc8e",
   "metadata": {},
   "outputs": [
    {
     "name": "stdout",
     "output_type": "stream",
     "text": [
      "sum of even numbers  [52, 74, 96, 34, 26, 76, 28] = 386\n",
      "sum of odd numbers  [41, 63, 85, 15, 31] = 235\n"
     ]
    }
   ],
   "source": [
    "# example list\n",
    "list1=[41,52,63,74,85,96,34,15,26,76,31,28]\n",
    "\n",
    "# calculating even and odd numbers using list comprehension\n",
    "even_count=[i for i in list1 if i%2==0]\n",
    "odd_count=[i for i in list1 if i%2!=0]\n",
    "\n",
    "# display the numbers and their sum\n",
    "print(\"sum of even numbers \",even_count,\"=\",sum(even_count))\n",
    "print(\"sum of odd numbers \",odd_count,\"=\",sum(odd_count))\n"
   ]
  },
  {
   "cell_type": "markdown",
   "id": "d65808ee-25d2-4521-a66d-0bf5dcb98197",
   "metadata": {},
   "source": [
    "#27. Create a program that generates a list of squares of odd numbers between 1 and 10 using list comprehension."
   ]
  },
  {
   "cell_type": "code",
   "execution_count": 41,
   "id": "b141abe7-6ca3-4dbe-8e90-f6fa29a79028",
   "metadata": {},
   "outputs": [
    {
     "name": "stdout",
     "output_type": "stream",
     "text": [
      "[1, 9, 25, 49, 81]\n"
     ]
    }
   ],
   "source": [
    "# calculating square using list comprehension\n",
    "square_odd_list=[i*i for i in range(1,11) if i%2!=0]\n",
    "\n",
    "\n",
    "print(square_odd_list)"
   ]
  },
  {
   "cell_type": "markdown",
   "id": "8db4c919-12b3-4490-847d-88ae639abf8c",
   "metadata": {},
   "source": [
    "#28. Write a program that combines two lists into a dictionary using list comprehension."
   ]
  },
  {
   "cell_type": "code",
   "execution_count": 48,
   "id": "090ec40b-d9e0-45a4-a0b2-c39c7cb7653e",
   "metadata": {},
   "outputs": [
    {
     "name": "stdout",
     "output_type": "stream",
     "text": [
      "list1 : [12, 36, 45, 29, 20]\n",
      "list2 : [14, 25, 36, 12, 31]\n",
      "after combining : {12: 14, 36: 25, 45: 36, 29: 12, 20: 31}\n"
     ]
    }
   ],
   "source": [
    "# example lists\n",
    "list1=[12,36,45,29,20]\n",
    "list2=[14,25,36,12,31]\n",
    "\n",
    "# Combine two lists into a dictionary using list comprehension\n",
    "combined_dict = {list1[i]: list2[i] for i in range(min(len(list1), len(list2)))}\n",
    "\n",
    "# printing the result\n",
    "print(\"list1 :\",list1)\n",
    "print(\"list2 :\",list2)\n",
    "print(\"after combining :\",combined_dict)"
   ]
  },
  {
   "cell_type": "markdown",
   "id": "1bd62fb7-ccc5-4f8e-8e4e-86e608b62659",
   "metadata": {},
   "source": [
    "#29. Develop a program that extracts the vowels from a string and stores them in a list using list comprehension."
   ]
  },
  {
   "cell_type": "code",
   "execution_count": 53,
   "id": "5f5ceb2e-7bb9-42f7-af9a-fa20c493cc38",
   "metadata": {},
   "outputs": [
    {
     "name": "stdin",
     "output_type": "stream",
     "text": [
      "enter the string of your choice : my name is sakshi\n"
     ]
    },
    {
     "name": "stdout",
     "output_type": "stream",
     "text": [
      "original string is : my name is sakshi\n",
      "vowels in the string : ['a', 'e', 'i', 'a', 'i']\n"
     ]
    }
   ],
   "source": [
    "# get the string input from the user\n",
    "string=input(\"enter the string of your choice :\")\n",
    "\n",
    "# make the string into lower for making it case sensitive\n",
    "string_lower=string.lower()\n",
    "\n",
    "# extracting vowels using list comprehension\n",
    "vowel_list=[char for char in string_lower if char in 'aeiou']\n",
    "\n",
    "# display the result\n",
    "print(\"original string is :\",string_lower)\n",
    "print(\"vowels in the string :\",vowel_list)"
   ]
  },
  {
   "cell_type": "markdown",
   "id": "27a0052f-4ea5-4dbc-9838-0095153c0add",
   "metadata": {},
   "source": [
    "#30. Create a program that removes all non-numeric characters from a list of strings using list comprehension."
   ]
  },
  {
   "cell_type": "code",
   "execution_count": 59,
   "id": "155ac2e5-d817-4dba-84ee-9cb62f4cc6c2",
   "metadata": {},
   "outputs": [
    {
     "name": "stdin",
     "output_type": "stream",
     "text": [
      "Enter a list of strings separated by spaces:  my 45 ih 852\n"
     ]
    },
    {
     "name": "stdout",
     "output_type": "stream",
     "text": [
      "Original list of strings: ['my', '45', 'ih', '852']\n",
      "Non-numeric characters: ['m', 'y', 'i', 'h']\n"
     ]
    }
   ],
   "source": [
    "# Input list of strings\n",
    "strings_list = input(\"Enter a list of strings separated by spaces: \").split()\n",
    "\n",
    "# Extract non-numeric characters using list comprehension\n",
    "non_numeric_characters = [char for string in strings_list for char in string if not char.isdigit()]\n",
    "\n",
    "# Print the result\n",
    "print(\"Original list of strings:\", strings_list)\n",
    "print(\"Non-numeric characters:\", non_numeric_characters)\n"
   ]
  },
  {
   "cell_type": "markdown",
   "id": "078d8c39-1634-4eed-8473-8549fbd34190",
   "metadata": {},
   "source": [
    "Challenge Level:"
   ]
  },
  {
   "cell_type": "markdown",
   "id": "d17f7998-5fd0-4ea8-8362-84cca39c3de2",
   "metadata": {},
   "source": [
    "#31. Write a program to generate a list of prime numbers using the Sieve of Eratosthenes algorithm and list comprehension."
   ]
  },
  {
   "cell_type": "code",
   "execution_count": 2,
   "id": "bb10fdc8-5deb-41e2-b502-e2a251222362",
   "metadata": {},
   "outputs": [
    {
     "name": "stdin",
     "output_type": "stream",
     "text": [
      "Enter the upper limit for prime numbers:  55\n"
     ]
    },
    {
     "name": "stdout",
     "output_type": "stream",
     "text": [
      "Prime numbers up to 55 : [2, 3, 5, 7, 11, 13, 17, 19, 23, 29, 31, 37, 41, 43, 47, 53]\n"
     ]
    }
   ],
   "source": [
    "# Input the upper limit\n",
    "limit = int(input(\"Enter the upper limit for prime numbers: \"))\n",
    "\n",
    "# Use Sieve of Eratosthenes algorithm with list comprehension\n",
    "sieve = [True] * (limit + 1)\n",
    "sieve[0] = sieve[1] = False\n",
    "\n",
    "for num in range(2, int(limit**0.5) + 1):\n",
    "    if sieve[num]:\n",
    "        sieve[num*2:limit+1:num] = [False] * ((limit - num) // num)\n",
    "\n",
    "prime_numbers = [num for num in range(2, limit + 1) if sieve[num]]\n",
    "\n",
    "# Print the result\n",
    "print(\"Prime numbers up to\", limit, \":\", prime_numbers)\n"
   ]
  },
  {
   "cell_type": "markdown",
   "id": "767ffb31-96af-403d-b28c-b6f53089b59c",
   "metadata": {},
   "source": [
    "#32. Create a program that generates a list of all Pythagorean triplets up to a specified limit using list comprehension."
   ]
  },
  {
   "cell_type": "code",
   "execution_count": 5,
   "id": "7410104d-fac4-4306-a53c-49201686a3ce",
   "metadata": {},
   "outputs": [
    {
     "name": "stdin",
     "output_type": "stream",
     "text": [
      "Enter the upper limit for Pythagorean triplets:  10\n"
     ]
    },
    {
     "name": "stdout",
     "output_type": "stream",
     "text": [
      "Pythagorean triplets up to 10 : [(3, 4, 5), (6, 8, 10)]\n"
     ]
    }
   ],
   "source": [
    "# Input the upper limit\n",
    "limit = int(input(\"Enter the upper limit for Pythagorean triplets: \"))\n",
    "\n",
    "# Generate Pythagorean triplets using list comprehension\n",
    "pythagorean_triplets = [(a, b, c) for c in range(1, limit + 1) for b in range(1, c) for a in range(1, b) if a**2 + b**2 == c**2]\n",
    "\n",
    "# Print the result\n",
    "print(\"Pythagorean triplets up to\", limit, \":\", pythagorean_triplets)\n"
   ]
  },
  {
   "cell_type": "markdown",
   "id": "c0cfadef-74ae-490b-9eae-a0b7b3a5b69c",
   "metadata": {},
   "source": [
    "#33. Develop a program that generates a list of all possible combinations of two lists using list comprehension."
   ]
  },
  {
   "cell_type": "code",
   "execution_count": 7,
   "id": "36315650-679a-45df-a272-b2acc9e35b6c",
   "metadata": {},
   "outputs": [
    {
     "name": "stdin",
     "output_type": "stream",
     "text": [
      "Enter the first list of elements separated by spaces:  14 25\n",
      "Enter the second list of elements separated by spaces:  41 52\n"
     ]
    },
    {
     "name": "stdout",
     "output_type": "stream",
     "text": [
      "List 1: ['14', '25']\n",
      "List 2: ['41', '52']\n",
      "All possible combinations: [('14', '41'), ('14', '52'), ('25', '41'), ('25', '52')]\n"
     ]
    }
   ],
   "source": [
    "# Input two lists\n",
    "list1 = input(\"Enter the first list of elements separated by spaces: \").split()\n",
    "list2 = input(\"Enter the second list of elements separated by spaces: \").split()\n",
    "\n",
    "# Generate all possible combinations using list comprehension\n",
    "combinations = [(item1, item2) for item1 in list1 for item2 in list2]\n",
    "\n",
    "# Print the result\n",
    "print(\"List 1:\", list1)\n",
    "print(\"List 2:\", list2)\n",
    "print(\"All possible combinations:\", combinations)\n"
   ]
  },
  {
   "cell_type": "markdown",
   "id": "96506089-5d5a-4dfa-8df8-f277a40df885",
   "metadata": {},
   "source": [
    "#34. Write a program that calculates the mean, median, and mode of a list of numbers using list comprehension."
   ]
  },
  {
   "cell_type": "code",
   "execution_count": 11,
   "id": "c60eaf01-a3ff-4d60-91b5-cad70d684a6c",
   "metadata": {},
   "outputs": [
    {
     "name": "stdin",
     "output_type": "stream",
     "text": [
      "Enter a list of numbers separated by spaces:  41 52 63 74 85 85 96 96\n"
     ]
    },
    {
     "name": "stdout",
     "output_type": "stream",
     "text": [
      "Original numbers: [41.0, 52.0, 63.0, 74.0, 85.0, 85.0, 96.0, 96.0]\n",
      "Mean: [74.0]\n",
      "Median: [79.5]\n",
      "Mode: [96.0, 85.0]\n"
     ]
    }
   ],
   "source": [
    "import statistics\n",
    "\n",
    "# Input list of numbers\n",
    "numbers = [float(x) for x in input(\"Enter a list of numbers separated by spaces: \").split()]\n",
    "\n",
    "# Calculate mean, median, and mode using list comprehension\n",
    "mean = [sum(numbers) / len(numbers)]\n",
    "median = [sorted(numbers)[len(numbers) // 2] if len(numbers) % 2 != 0 else (sorted(numbers)[len(numbers) // 2 - 1] + sorted(numbers)[len(numbers) // 2]) / 2]\n",
    "mode = [item for item in set(numbers) if numbers.count(item) == max([numbers.count(x) for x in set(numbers)])]\n",
    "\n",
    "# Print the results\n",
    "print(\"Original numbers:\", numbers)\n",
    "print(\"Mean:\", mean)\n",
    "print(\"Median:\", median)\n",
    "print(\"Mode:\", mode)\n"
   ]
  },
  {
   "cell_type": "markdown",
   "id": "bec586d3-75b6-45d1-9a21-9930c1016dd4",
   "metadata": {},
   "source": [
    "#35. Create a program that generates Pascal's triangle up to a specified number of rows using list comprehension."
   ]
  },
  {
   "cell_type": "code",
   "execution_count": 16,
   "id": "bb4511cf-184e-4b29-90ea-7e96c42f8d31",
   "metadata": {},
   "outputs": [
    {
     "name": "stdin",
     "output_type": "stream",
     "text": [
      "Enter the number of rows for Pascal's Triangle:  7\n"
     ]
    },
    {
     "name": "stdout",
     "output_type": "stream",
     "text": [
      "          1          \n",
      "         1 1         \n",
      "        1 2 1        \n",
      "       1 3 3 1       \n",
      "      1 4 6 4 1      \n",
      "    1 5 10 10 5 1    \n",
      "   1 6 15 20 15 6 1  \n"
     ]
    }
   ],
   "source": [
    "# Input the number of rows\n",
    "num_rows = int(input(\"Enter the number of rows for Pascal's Triangle: \"))\n",
    "\n",
    "# Generate Pascal's Triangle using list comprehension\n",
    "triangle = [[1] * (row + 1) for row in range(num_rows)]\n",
    "\n",
    "for row in range(2, num_rows):\n",
    "    for col in range(1, row):\n",
    "        triangle[row][col] = triangle[row-1][col-1] + triangle[row-1][col]\n",
    "\n",
    "# Print Pascal's Triangle\n",
    "for row in triangle:\n",
    "    print(' '.join(map(str, row)).center(num_rows * 3))\n"
   ]
  },
  {
   "cell_type": "markdown",
   "id": "8f27f326-ae67-47f5-adc1-d9da7d1f04b3",
   "metadata": {},
   "source": [
    "#36. Develop a program that calculates the sum of the digits of a factorial of numbers from 1 to 5 using list comprehension."
   ]
  },
  {
   "cell_type": "code",
   "execution_count": 19,
   "id": "2941759f-3227-4c3d-b76e-a872aeabd35d",
   "metadata": {},
   "outputs": [
    {
     "name": "stdout",
     "output_type": "stream",
     "text": [
      "The sum of digits of 1! is 1\n",
      "The sum of digits of 2! is 2\n",
      "The sum of digits of 3! is 6\n",
      "The sum of digits of 4! is 6\n",
      "The sum of digits of 5! is 3\n"
     ]
    }
   ],
   "source": [
    "import math\n",
    "\n",
    "# Calculate the sum of digits of factorial for numbers 1 to 5 using list comprehension\n",
    "results = [(num, sum(int(digit) for digit in str(math.factorial(num)))) for num in range(1, 6)]\n",
    "\n",
    "# Print the result\n",
    "for num, result in results:\n",
    "    print(f\"The sum of digits of {num}! is {result}\")\n"
   ]
  },
  {
   "cell_type": "markdown",
   "id": "b205186e-3da6-4008-a23b-dfa1032fe055",
   "metadata": {},
   "source": [
    "#37. Write a program that finds the longest word in a sentence using list comprehension."
   ]
  },
  {
   "cell_type": "code",
   "execution_count": 27,
   "id": "63a19efa-cea3-4287-a6af-32a210283dfe",
   "metadata": {},
   "outputs": [
    {
     "name": "stdin",
     "output_type": "stream",
     "text": [
      "enter the sentence : my name is sakshi\n"
     ]
    },
    {
     "name": "stdout",
     "output_type": "stream",
     "text": [
      "longest word in the sentence is : sakshi\n"
     ]
    }
   ],
   "source": [
    "# take the string input from the user\n",
    "input_str=input(\"enter the sentence :\")\n",
    "\n",
    "# finding longest word using list comprehension\n",
    "longest=max(word.strip(\".,?!\") for word in input_str.split())\n",
    "\n",
    "print(\"longest word in the sentence is :\",longest)"
   ]
  },
  {
   "cell_type": "markdown",
   "id": "df560f10-bca2-4ea3-8f5a-a71c2ad4d354",
   "metadata": {},
   "source": [
    "#38. Create a program that filters a list of strings to include only those with more than three vowels using list comprehension."
   ]
  },
  {
   "cell_type": "code",
   "execution_count": 30,
   "id": "b1e8af8a-7bfd-4e8a-9b42-ea0e12e17dcb",
   "metadata": {},
   "outputs": [
    {
     "name": "stdin",
     "output_type": "stream",
     "text": [
      "Enter a list of strings separated by spaces:  my name is sakshi and I am passionate about data science.\n"
     ]
    },
    {
     "name": "stdout",
     "output_type": "stream",
     "text": [
      "Original list of strings: ['my', 'name', 'is', 'sakshi', 'and', 'I', 'am', 'passionate', 'about', 'data', 'science.']\n",
      "Strings with more than three vowels: ['passionate']\n"
     ]
    }
   ],
   "source": [
    "# Input a list of strings\n",
    "string_list = input(\"Enter a list of strings separated by spaces: \").split()\n",
    "\n",
    "# Filter strings with more than three vowels using list comprehension\n",
    "filtered_strings = [string for string in string_list if sum(1 for char in string if char.lower() in 'aeiou') > 3]\n",
    "\n",
    "# Print the result\n",
    "print(\"Original list of strings:\", string_list)\n",
    "print(\"Strings with more than three vowels:\", filtered_strings)\n"
   ]
  },
  {
   "cell_type": "markdown",
   "id": "521ff6db-44ca-4872-999f-f6121b7ac8ac",
   "metadata": {},
   "source": [
    "#39. Develop a program that calculates the sum of the digits of numbers from 1 to 1000 using list comprehension."
   ]
  },
  {
   "cell_type": "code",
   "execution_count": 36,
   "id": "63dfe6ad-c43a-4bc8-a86c-fd713144a32c",
   "metadata": {},
   "outputs": [
    {
     "name": "stdout",
     "output_type": "stream",
     "text": [
      "Sum of digits for numbers from 1 to 1000: 13501\n"
     ]
    }
   ],
   "source": [
    "# Calculate the sum of digits for numbers from 1 to 1000 using list comprehension\n",
    "sum_of_digits_list = [sum(int(digit) for digit in str(num)) for num in range(1, 1001)]\n",
    "\n",
    "# Print the result\n",
    "print(\"Sum of digits for numbers from 1 to 1000:\", sum(sum_of_digits_list))\n"
   ]
  },
  {
   "cell_type": "markdown",
   "id": "b4e49ff7-8036-428e-be60-0cfd7cae3d55",
   "metadata": {},
   "source": [
    "#40. Write a program that generates a list of prime palindromic numbers using list comprehension."
   ]
  },
  {
   "cell_type": "code",
   "execution_count": 40,
   "id": "3af0a86b-357e-4ce4-aa6d-d6cd57421cb9",
   "metadata": {},
   "outputs": [
    {
     "name": "stdout",
     "output_type": "stream",
     "text": [
      "Prime palindromic numbers: [1, 2, 3, 5, 7, 11, 101, 131, 151, 181, 191, 313, 353, 373, 383, 727, 757, 787, 797, 919, 929]\n"
     ]
    }
   ],
   "source": [
    "# Generate a list of prime palindromic numbers using list comprehension\n",
    "prime_palindromes = [num for num in range(1, 1000) if all(num % i != 0 for i in range(2, int(num**0.5) + 1)) and str(num) == str(num)[::-1]]\n",
    "\n",
    "# Print the result\n",
    "print(\"Prime palindromic numbers:\", prime_palindromes)\n"
   ]
  }
 ],
 "metadata": {
  "kernelspec": {
   "display_name": "Python 3 (ipykernel)",
   "language": "python",
   "name": "python3"
  },
  "language_info": {
   "codemirror_mode": {
    "name": "ipython",
    "version": 3
   },
   "file_extension": ".py",
   "mimetype": "text/x-python",
   "name": "python",
   "nbconvert_exporter": "python",
   "pygments_lexer": "ipython3",
   "version": "3.10.8"
  }
 },
 "nbformat": 4,
 "nbformat_minor": 5
}
